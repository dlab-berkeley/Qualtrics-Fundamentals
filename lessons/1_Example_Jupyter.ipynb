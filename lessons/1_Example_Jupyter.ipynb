{
 "cells": [
  {
   "cell_type": "markdown",
   "metadata": {},
   "source": [
    "# Workshop Name: Subtitle [EDIT ME]\n",
    "\n",
    "* * * \n",
    "\n",
    "<div class=\"alert alert-success\">  \n",
    "    \n",
    "### Learning Objectives \n",
    "    \n",
    "* EDIT ME. At least 3, max 6, use [learning objective verbs](https://swcarpentry.github.io/swc-releases/2016.06/instructor-training/20-lessons/).\n",
    "* EDIT ME. At least 3, max 6, use [learning objective verbs](https://swcarpentry.github.io/swc-releases/2016.06/instructor-training/20-lessons/).\n",
    "* EDIT ME. At least 3, max 6, use [learning objective verbs](https://swcarpentry.github.io/swc-releases/2016.06/instructor-training/20-lessons/).\n",
    "</div>\n",
    "\n",
    "### Icons Used in This Notebook\n",
    "🔔 **Question**: A quick question to help you understand what's going on.<br>\n",
    "🥊 **Challenge**: Interactive excersise. We'll work through these in the workshop!<br>\n",
    "💡 **Tip**: How to do something a bit more efficiently or effectively.<br>\n",
    "⚠️ **Warning:** Heads-up about tricky stuff or common mistakes.<br>\n",
    "📝 **Poll:** A Zoom poll to help you learn!<br>\n",
    "🎬 **Demo**: Showing off something more advanced – so you know what Python can be used for!<br> \n",
    "\n",
    "[NOTE: Remove icons if they're not used in the notebook]\n",
    "\n",
    "### Sections\n",
    "1. [Section Name - EDIT ME](#section1)\n",
    "2. [Section Name - EDIT ME](#section2)\n",
    "3. [Reflection: [Title of Reflection] - EDIT ME](#refl)\n",
    "4. [Demo: [Title of Demo] - EDIT ME](#demo)"
   ]
  },
  {
   "cell_type": "markdown",
   "metadata": {
    "tags": []
   },
   "source": [
    "*Change the ID name of the section in the HTML in this cell, and match it with the name after the # under Learning Objectives, in order to create a link.*\n",
    "<a id='section1'></a>\n",
    "\n",
    "# Section Name [EDIT ME]\n",
    "\n",
    "Main sections should be an H1 (one hashtag) header, in Title Case, following [APA rules](https://apastyle.apa.org/style-grammar-guidelines/capitalization/title-case). They are linked to in the Sections list. Use `<a id='section_name'></a>` at the top of the markdown cell to create the link."
   ]
  },
  {
   "cell_type": "markdown",
   "metadata": {},
   "source": [
    "Be sure to have text between code cells explaining the material, step-by-step.\n",
    "\n",
    "Keep the following in mind:\n",
    "- Keep narrative text limited! \n",
    "- Avoid discussion of edge cases or caveats.\n",
    "- Use colloquial languague and minimal jargon; if you need it, explain it.\n",
    "- Use **boldface** to highlight key concepts and important terms, but use it sparingly.\n",
    "- Don't use italics.\n",
    "- Use en-dash for lists.\n",
    "- Use `code font` for anything in code like variables, functions, and packages.\n",
    "- Use `code font` for menu items (like `Restart Kernel`), and data frame rows/columns. \n",
    "- When discussing functions, include the trailing parentheses (e.g. `print()`).\n",
    "- When discussing methods, include the dot (e.g. `.sum()`).\n",
    "- Consistently use emoji for relevant sections. See below for some examples."
   ]
  },
  {
   "cell_type": "code",
   "execution_count": null,
   "metadata": {},
   "outputs": [],
   "source": [
    "# Code cells\n",
    "\n",
    "# Imports are always put at the top of the file. They should be on separate lines.\n",
    "import some_package\n",
    "\n",
    "# But this is okay\n",
    "from another_package import some_function\n",
    "\n",
    "# Comments:\n",
    "# Use comments sparingly: better to explain in markdown!\n",
    "# Use comments to further specify particular lines of code when needed.\n",
    "# Comments start with a capital letter, and a space between the hashtag and the first word\n",
    "\n",
    "# In general ,we follow the PEP style guide: https://peps.python.org/pep-0008/\n",
    "\n",
    "# Coding style: \n",
    "# Use snake case and single quotation marks, unless your string includes single quotation marks.\n",
    "# Most operators are surrounded with a single space.\n",
    "some_variable = 12\n",
    "if some_variable == 10:\n",
    "    print(\"high\")\n",
    "\n",
    "# Always use spaces after commas\n",
    "some_list = [1, 2, 3, 4]\n",
    "\n",
    "# Don’t use spaces around the = sign when used to indicate a keyword argument.\n",
    "def some_function(a=1, b=2):\n",
    "# Use 4 spaces per indentation level\n",
    "    print(\"something\")\n",
    "\n",
    "\n",
    "# Data: \n",
    "# use relevant social science datasets whenever you can. \n",
    "# Think health data, demographics, etc.\n",
    "# Stay away from \"impersonal\" datasets like the Iris or Penguins dataset.\n",
    "# Use the top-level \"data\" folder in the repo to store data"
   ]
  },
  {
   "cell_type": "code",
   "execution_count": null,
   "metadata": {},
   "outputs": [],
   "source": [
    "# You might want to have an install cell, if your workshop uses a special package\n",
    "# e.g.,\n",
    "# !pip install [PACKAGE]"
   ]
  },
  {
   "cell_type": "code",
   "execution_count": null,
   "metadata": {},
   "outputs": [],
   "source": [
    "# You might want to have an import cell, so that you can do all imports at the beginning.\n",
    "# e.g.,\n",
    "# import numpy as np\n",
    "# import pandas as pd"
   ]
  },
  {
   "cell_type": "markdown",
   "metadata": {
    "tags": []
   },
   "source": [
    "## Subsection [EDIT ME]\n",
    "\n",
    "Use H2 headers for subsections, in Title Case, following [APA rules](https://apastyle.apa.org/style-grammar-guidelines/capitalization/title-case). These **do not** need to be linked to in the Sections at the top of the notebook."
   ]
  },
  {
   "cell_type": "markdown",
   "metadata": {},
   "source": [
    "### Subsubsection [EDIT ME]\n",
    "\n",
    "Use H3 headers for subsubsections, in Title Case, following [APA rules](https://apastyle.apa.org/style-grammar-guidelines/capitalization/title-case). Don't go lower than H3 if you can avoid it."
   ]
  },
  {
   "cell_type": "markdown",
   "metadata": {
    "jp-MarkdownHeadingCollapsed": true,
    "tags": []
   },
   "source": [
    "<details><summary><a>Expandable sections</a></summary>\n",
    "Expandable sections like these can be used for hints, or for information that is optional or more advanced, and you do not want to immediately expose to all workshop participants. Use these expandable sections scarcely!\n",
    "</details>\n"
   ]
  },
  {
   "cell_type": "markdown",
   "metadata": {},
   "source": [
    "<a id='section2'></a>\n",
    "\n",
    "# Section Name [EDIT ME]\n",
    "\n"
   ]
  },
  {
   "cell_type": "markdown",
   "metadata": {
    "tags": []
   },
   "source": [
    "## 🥊 Challenge #: [Name of Challenge]\n",
    "\n",
    "- Challenges are typically formatted as subsection (##). Title Case applies.\n",
    "- Challenges use the 🥊 Boxing Glove emoji in the header.\n",
    "- Try to have at least one exercise every 15 minutes of instruction. More is better. A two-hour workshop needs at least **six challenges**.\n",
    "- Challenges have names and are numbered. You should reference them in the Solutions file.\n",
    "- Plan around 8 minutes for each challenge (including discussion of the solution and questions).\n",
    "- Don't use \"Bonus Challenges\" or the like. If really needed, use a \"Take-Home Challenge\" (1 max!) so it's clear these can be completed outside the workshop.\n",
    "- Copy filled-in challenges over to a solutions notebook that goes into the \"solutions \"folder. \n",
    "\n",
    "### *Example:*\n",
    "\n",
    "## 🥊 Challenge 1: Printing!\n",
    "\n",
    "Write your own `print()` statement in the code cell below. Follow the syntax of the example above, and change the text in the quotation marks.\n"
   ]
  },
  {
   "cell_type": "code",
   "execution_count": null,
   "metadata": {},
   "outputs": [],
   "source": [
    "# You may have some starter code for the challenge that you can put in its own cell.\n",
    "# Always have a following cell that says \"YOUR CODE HERE\" with a few empty lines beneath it, \n",
    "# so that attendees know where to put their code."
   ]
  },
  {
   "cell_type": "code",
   "execution_count": null,
   "metadata": {},
   "outputs": [],
   "source": [
    "# YOUR CODE HERE\n",
    "\n",
    "\n"
   ]
  },
  {
   "cell_type": "code",
   "execution_count": null,
   "metadata": {},
   "outputs": [],
   "source": [
    "# You may also use scaffolding. Use three dots (...) to indicate scaffolding.\n",
    "\n",
    "def ...:\n",
    "    # YOUR CODE HERE\n",
    "    return ..."
   ]
  },
  {
   "cell_type": "markdown",
   "metadata": {},
   "source": [
    "💡 **Tip**: \n",
    "- Tips can be formatted as subsection (##) when they're more substantial.\n",
    "- Tips use the 💡 Electric Light Bulb Emoji in the header / at the start of the line, followed by boldface **Tip:**, followed by the tip. \n",
    "- Tips are not numbered.\n",
    "- Keep them short and to the point.\n",
    "- See the Jupyter notebook template for an example.\n",
    "\n",
    "### *Example:*\n",
    "\n",
    "💡 **Tip**: A method is written with parenteses: e.g. `gap.value_counts()`. An attribute is written without parentheses: e.g. `gap.columns`.\n"
   ]
  },
  {
   "cell_type": "markdown",
   "metadata": {
    "tags": []
   },
   "source": [
    "## 💡 Tip: [Name of Tip]\n",
    "- Tips can be formatted as subsection (##) when they're more substantial. Title Case applies.\n",
    "- Tips use the 💡 Electric Light Bulb Emoji in the header.\n",
    "- Tips are not numbered.\n",
    "- Keep them short and to the point."
   ]
  },
  {
   "cell_type": "markdown",
   "metadata": {},
   "source": [
    "🔔 **Question:** \n",
    "- Questions are used without header. \n",
    "- Questions use the 🔔 Bell Emoji at the start of the line, followed by boldface **Question:**, followed by the question.\n",
    "- Questions are short queries about code or concepts. \n",
    "- Questions do not require participants to enter code. \n",
    "- Questions can be used as attention checks, and discussed during the workshop.\n",
    "\n",
    "*Example:*\n",
    "\n",
    "🔔 **Question**: what will the output of the following code be?"
   ]
  },
  {
   "cell_type": "code",
   "execution_count": null,
   "metadata": {},
   "outputs": [],
   "source": [
    "numbers = [12, 20, 43, 88, 97, 100, 105, 110]\n",
    "\n",
    "for number in numbers:\n",
    "    if number > 100:\n",
    "        print(number, 'is greater than 100.')"
   ]
  },
  {
   "cell_type": "markdown",
   "metadata": {},
   "source": [
    "📝 **Poll**\n",
    "\n",
    "- Polls refer to Zoom polls, which can be used as a form of formative assessment.\n",
    "- Talk to D-Lab staff if you want to create Zoom polls before adding them in the notebook.\n",
    "- Polls use the 📝 memo enoji at the start of the line, followed by boldface **Poll**, followed by the name of the poll.\n",
    "- Polls are named with the format {workshop name}{workshop part - poll number}\n",
    "- make sure to check if they are **activated** by clicking \"Polls/Quizzes\" in Zoom.\n",
    "- Polls are used without header.\n",
    "\n",
    "### *Example:*\n",
    "\n",
    "📝 **Poll PyInt 2-2:**  Why are only some of the columns in the `DataFrame` visible in the output?"
   ]
  },
  {
   "cell_type": "markdown",
   "metadata": {
    "tags": []
   },
   "source": [
    "<a id='demo'></a>\n",
    "\n",
    "\n",
    "# 🎬 Demo: [Title Of Demo]\n",
    "\n",
    "- Demos can be used at the end of a notebook to show / highlight some advanced functionalities outside the scope of the workshop. \n",
    "- Demos are written as main sections (#) that are linked to in the \"Sections\" section. Title Case applies.\n",
    "- Demos use the 🎬 Clapper Board Emoji at the start of the header.\n",
    "- Demos can used once per notebook.\n",
    "- Demos can be used to enthuse participants, and to point them to relevant other D-Lab workshops.\n",
    "- Demos are meant to be short: 5-10 mins max.\n",
    "\n",
    "### *Example:*"
   ]
  },
  {
   "cell_type": "markdown",
   "metadata": {
    "tags": []
   },
   "source": [
    "# 🎬 Demo: Working With Data Frames\n",
    "\n",
    "To cap off this workshop, here's a demo to see what reproducible data science with Python looks like.\n",
    "Just run the code cell below, and don't worry if you don't understand everything!\n",
    "\n",
    "* We'll be using a `pandas` DataFrame to store and manipulate the data - you'll learn more about `pandas` and DataFrames in the next workshop!\n",
    "* Our data comes from the California Health Interview Survey (CHIS), the nation's largest state health survey. \n",
    "\n",
    "Let's have a look at the data:"
   ]
  },
  {
   "cell_type": "code",
   "execution_count": null,
   "metadata": {},
   "outputs": [],
   "source": [
    "import pandas as pd\n",
    "\n",
    "# Reading in a comma-seperated values file\n",
    "chis_df = pd.read_csv('some_file.csv')\n",
    "chis_df.head()"
   ]
  },
  {
   "cell_type": "markdown",
   "metadata": {},
   "source": [
    "Looks like we have a bunch of information here. Let's focus on the column for the number of sodas people have per day (the \"number_sodas\" column), and whether people rent or own a house (the \"tenure\" column).\n",
    "\n",
    "In the next steps, we'll...\n",
    "1. change the datatype of a column,\n",
    "2. create dummy variables (variables that take values of 0 and 1), and \n",
    "3. group our data.\n",
    "\n",
    "This allows us to calculate the average amount of sodas consumed by people who do and do not own a house."
   ]
  },
  {
   "cell_type": "code",
   "execution_count": null,
   "metadata": {},
   "outputs": [],
   "source": [
    "# Changing the data type of a column\n",
    "chis_df['number_sodas'] = chis_df['number_sodas'].astype(float)\n",
    "\n",
    "# Creating dummy variables\n",
    "chis_dummies = pd.get_dummies(chis_df, columns=['tenure'])\n",
    "\n",
    "# Grouping the average number of consumed sodas by people who own a house\n",
    "chis_dummies['number_sodas'].groupby(chis_dummies['tenure_OWN']).mean()"
   ]
  },
  {
   "cell_type": "markdown",
   "metadata": {},
   "source": [
    "Note: For more information, see the `style.md` file in the main folder."
   ]
  },
  {
   "cell_type": "markdown",
   "metadata": {
    "jp-MarkdownHeadingCollapsed": true,
    "tags": []
   },
   "source": [
    "<div class=\"alert alert-success\">\n",
    "\n",
    "## ❗ Key Points\n",
    "\n",
    "* EDIT ME. Recap the most useful information in this notebook. Keep it short and use action words. Min 3, max 8.\n",
    "* EDIT ME. Recap the most useful information in this notebook. Keep it short and use action words. Min 3, max 8.\n",
    "* EDIT ME. Recap the most useful information in this notebook. Keep it short and use action words. Min 3, max 8.\n",
    "\n",
    "</div>"
   ]
  }
 ],
 "metadata": {
  "kernelspec": {
   "display_name": "Python 3 (ipykernel)",
   "language": "python",
   "name": "python3"
  },
  "language_info": {
   "codemirror_mode": {
    "name": "ipython",
    "version": 3
   },
   "file_extension": ".py",
   "mimetype": "text/x-python",
   "name": "python",
   "nbconvert_exporter": "python",
   "pygments_lexer": "ipython3",
   "version": "3.11.3"
  }
 },
 "nbformat": 4,
 "nbformat_minor": 4
}
