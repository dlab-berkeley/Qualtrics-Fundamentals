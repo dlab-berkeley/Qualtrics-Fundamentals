{
 "cells": [
  {
   "cell_type": "markdown",
   "id": "ab9175f4-a51c-42aa-a770-b055a1467142",
   "metadata": {},
   "source": [
    "# Workshop Name: Subtitle\n",
    "# SOLUTIONS"
   ]
  },
  {
   "cell_type": "markdown",
   "id": "2050ae11-8d95-47bb-9d91-e93fbf73ab6e",
   "metadata": {},
   "source": [
    "The solutions file should have the same name as the workshop file, with an `_solutions` appended to the file name. \n",
    "\n",
    "Solutions files should *only* contain the code necessary to run the challenges and the solutions. Extra workshop material - including headers, cells with text, etc. - should be removed."
   ]
  },
  {
   "cell_type": "code",
   "execution_count": null,
   "id": "c14630f5-d417-4452-9497-0a566b46a4ff",
   "metadata": {},
   "outputs": [],
   "source": [
    "# You may need to include code blocks from the workshop that are needed to run the challenges\n",
    "# Be sure to include them at the top of this notebook"
   ]
  },
  {
   "cell_type": "code",
   "execution_count": null,
   "id": "8f451269-4860-45f2-9ac8-f332103ce1d4",
   "metadata": {},
   "outputs": [],
   "source": [
    "# e.g., import packages"
   ]
  },
  {
   "cell_type": "code",
   "execution_count": null,
   "id": "24c02a96-6b4c-4fa9-8bc4-a8ff9cd7910f",
   "metadata": {},
   "outputs": [],
   "source": [
    "# e.g., import dataset"
   ]
  },
  {
   "cell_type": "code",
   "execution_count": null,
   "id": "c23e2758-bdd0-461b-881c-a0e7854fbe0e",
   "metadata": {},
   "outputs": [],
   "source": [
    "# e.g., run preprocessing on dataset"
   ]
  },
  {
   "cell_type": "markdown",
   "id": "140aae33-c9e2-4f17-b16c-ab01015740e3",
   "metadata": {},
   "source": [
    "---\n",
    "\n",
    "## 🥊 Challenge: Challenge Title Here\n",
    "\n",
    "This should be the exact same text as the Challenge from the workshop file.\n",
    "\n",
    "---"
   ]
  },
  {
   "cell_type": "code",
   "execution_count": null,
   "id": "27a0b302-d2db-4583-a7fe-376d22c25aa8",
   "metadata": {},
   "outputs": [],
   "source": [
    "# You may have some starter code for the challenge that you can put in its own cell\n",
    "# Be sure to include the starter code again in the solutions file."
   ]
  },
  {
   "cell_type": "code",
   "execution_count": null,
   "id": "390cb649-920f-4fef-b2b3-55a1db442570",
   "metadata": {},
   "outputs": [],
   "source": [
    "# The solution should go in its own cell, or multiple additional cells, if needed"
   ]
  }
 ],
 "metadata": {
  "kernelspec": {
   "display_name": "Python 3 (ipykernel)",
   "language": "python",
   "name": "python3"
  },
  "language_info": {
   "codemirror_mode": {
    "name": "ipython",
    "version": 3
   },
   "file_extension": ".py",
   "mimetype": "text/x-python",
   "name": "python",
   "nbconvert_exporter": "python",
   "pygments_lexer": "ipython3",
   "version": "3.8.13"
  }
 },
 "nbformat": 4,
 "nbformat_minor": 5
}
